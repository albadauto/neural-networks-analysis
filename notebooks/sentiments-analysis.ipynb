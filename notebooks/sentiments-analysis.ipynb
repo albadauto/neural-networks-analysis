{
 "cells": [
  {
   "cell_type": "code",
   "execution_count": 2,
   "id": "initial_id",
   "metadata": {
    "collapsed": true,
    "ExecuteTime": {
     "end_time": "2024-04-05T03:51:28.866276Z",
     "start_time": "2024-04-05T03:51:25.451085Z"
    }
   },
   "outputs": [],
   "source": [
    "import tensorflow as tf\n",
    "import pandas as pd\n",
    "import numpy as np\n",
    "import pickle as pck"
   ]
  },
  {
   "cell_type": "code",
   "outputs": [],
   "source": [
    "dataset = pd.read_csv('C:/Datasets/pt2.csv',  nrows=600)"
   ],
   "metadata": {
    "collapsed": false,
    "ExecuteTime": {
     "end_time": "2024-04-05T03:51:28.947356Z",
     "start_time": "2024-04-05T03:51:28.868337Z"
    }
   },
   "id": "bab96034ecefd5dd",
   "execution_count": 3
  },
  {
   "cell_type": "code",
   "outputs": [
    {
     "data": {
      "text/plain": "                                            tweet_text  \\\n0           ela vendo a família ( FUGIDINHA VERA LÚCIA   \n1    Eu odeio o fato que muito provavelmente meu vo...   \n2    Ciro mita tanto quanto aquele outro não quero ...   \n3                           Raiva do Bolsonaro agora )   \n4    Reflexos da alienação petista comandada por Lu...   \n..                                                 ...   \n595  vitirialp de qualquer forma vc ta analogando o...   \n596  carolgil Epa deixa o Alckmin ganhar nada! Prec...   \n597  Se Alckmin é um picolé de chuchu essa chapa se...   \n598  Lula-le-Corrompu ( https//t.co/pu8atJPCph via ...   \n599  Conduzir a Ceará Traduzido e morar em Recife o...   \n\n                       tweet_date  sentiment    query_used  \n0    Mon Aug 06 231107 +0000 2018          0  vera lucia (  \n1    Mon Aug 06 003804 +0000 2018          0        ciro (  \n2    Sat Aug 04 234242 +0000 2018          0        ciro (  \n3    Tue Aug 07 223530 +0000 2018          1   bolsonaro )  \n4    Mon Aug 06 123715 +0000 2018          0        lula (  \n..                            ...        ...           ...  \n595  Fri Aug 03 235614 +0000 2018          0   bolsonaro (  \n596  Mon Aug 06 135222 +0000 2018          1     alckmin )  \n597  Sat Aug 04 004049 +0000 2018          1     alckmin )  \n598  Sun Aug 05 140455 +0000 2018          0        lula (  \n599  Fri Aug 03 213058 +0000 2018          0        lula (  \n\n[600 rows x 4 columns]",
      "text/html": "<div>\n<style scoped>\n    .dataframe tbody tr th:only-of-type {\n        vertical-align: middle;\n    }\n\n    .dataframe tbody tr th {\n        vertical-align: top;\n    }\n\n    .dataframe thead th {\n        text-align: right;\n    }\n</style>\n<table border=\"1\" class=\"dataframe\">\n  <thead>\n    <tr style=\"text-align: right;\">\n      <th></th>\n      <th>tweet_text</th>\n      <th>tweet_date</th>\n      <th>sentiment</th>\n      <th>query_used</th>\n    </tr>\n  </thead>\n  <tbody>\n    <tr>\n      <th>0</th>\n      <td>ela vendo a família ( FUGIDINHA VERA LÚCIA</td>\n      <td>Mon Aug 06 231107 +0000 2018</td>\n      <td>0</td>\n      <td>vera lucia (</td>\n    </tr>\n    <tr>\n      <th>1</th>\n      <td>Eu odeio o fato que muito provavelmente meu vo...</td>\n      <td>Mon Aug 06 003804 +0000 2018</td>\n      <td>0</td>\n      <td>ciro (</td>\n    </tr>\n    <tr>\n      <th>2</th>\n      <td>Ciro mita tanto quanto aquele outro não quero ...</td>\n      <td>Sat Aug 04 234242 +0000 2018</td>\n      <td>0</td>\n      <td>ciro (</td>\n    </tr>\n    <tr>\n      <th>3</th>\n      <td>Raiva do Bolsonaro agora )</td>\n      <td>Tue Aug 07 223530 +0000 2018</td>\n      <td>1</td>\n      <td>bolsonaro )</td>\n    </tr>\n    <tr>\n      <th>4</th>\n      <td>Reflexos da alienação petista comandada por Lu...</td>\n      <td>Mon Aug 06 123715 +0000 2018</td>\n      <td>0</td>\n      <td>lula (</td>\n    </tr>\n    <tr>\n      <th>...</th>\n      <td>...</td>\n      <td>...</td>\n      <td>...</td>\n      <td>...</td>\n    </tr>\n    <tr>\n      <th>595</th>\n      <td>vitirialp de qualquer forma vc ta analogando o...</td>\n      <td>Fri Aug 03 235614 +0000 2018</td>\n      <td>0</td>\n      <td>bolsonaro (</td>\n    </tr>\n    <tr>\n      <th>596</th>\n      <td>carolgil Epa deixa o Alckmin ganhar nada! Prec...</td>\n      <td>Mon Aug 06 135222 +0000 2018</td>\n      <td>1</td>\n      <td>alckmin )</td>\n    </tr>\n    <tr>\n      <th>597</th>\n      <td>Se Alckmin é um picolé de chuchu essa chapa se...</td>\n      <td>Sat Aug 04 004049 +0000 2018</td>\n      <td>1</td>\n      <td>alckmin )</td>\n    </tr>\n    <tr>\n      <th>598</th>\n      <td>Lula-le-Corrompu ( https//t.co/pu8atJPCph via ...</td>\n      <td>Sun Aug 05 140455 +0000 2018</td>\n      <td>0</td>\n      <td>lula (</td>\n    </tr>\n    <tr>\n      <th>599</th>\n      <td>Conduzir a Ceará Traduzido e morar em Recife o...</td>\n      <td>Fri Aug 03 213058 +0000 2018</td>\n      <td>0</td>\n      <td>lula (</td>\n    </tr>\n  </tbody>\n</table>\n<p>600 rows × 4 columns</p>\n</div>"
     },
     "execution_count": 4,
     "metadata": {},
     "output_type": "execute_result"
    }
   ],
   "source": [
    "dataset"
   ],
   "metadata": {
    "collapsed": false,
    "ExecuteTime": {
     "end_time": "2024-04-05T03:51:28.970169Z",
     "start_time": "2024-04-05T03:51:28.948380Z"
    }
   },
   "id": "c6ea2484e88c82b9",
   "execution_count": 4
  },
  {
   "cell_type": "code",
   "outputs": [],
   "source": [
    "dataset = dataset.drop(['tweet_date', 'query_used'], axis=1)"
   ],
   "metadata": {
    "collapsed": false,
    "ExecuteTime": {
     "end_time": "2024-04-05T03:51:28.981295Z",
     "start_time": "2024-04-05T03:51:28.973359Z"
    }
   },
   "id": "87703c06cf9ec1b8",
   "execution_count": 5
  },
  {
   "cell_type": "code",
   "outputs": [
    {
     "data": {
      "text/plain": "                                            tweet_text  sentiment\n0           ela vendo a família ( FUGIDINHA VERA LÚCIA          0\n1    Eu odeio o fato que muito provavelmente meu vo...          0\n2    Ciro mita tanto quanto aquele outro não quero ...          0\n3                           Raiva do Bolsonaro agora )          1\n4    Reflexos da alienação petista comandada por Lu...          0\n..                                                 ...        ...\n595  vitirialp de qualquer forma vc ta analogando o...          0\n596  carolgil Epa deixa o Alckmin ganhar nada! Prec...          1\n597  Se Alckmin é um picolé de chuchu essa chapa se...          1\n598  Lula-le-Corrompu ( https//t.co/pu8atJPCph via ...          0\n599  Conduzir a Ceará Traduzido e morar em Recife o...          0\n\n[600 rows x 2 columns]",
      "text/html": "<div>\n<style scoped>\n    .dataframe tbody tr th:only-of-type {\n        vertical-align: middle;\n    }\n\n    .dataframe tbody tr th {\n        vertical-align: top;\n    }\n\n    .dataframe thead th {\n        text-align: right;\n    }\n</style>\n<table border=\"1\" class=\"dataframe\">\n  <thead>\n    <tr style=\"text-align: right;\">\n      <th></th>\n      <th>tweet_text</th>\n      <th>sentiment</th>\n    </tr>\n  </thead>\n  <tbody>\n    <tr>\n      <th>0</th>\n      <td>ela vendo a família ( FUGIDINHA VERA LÚCIA</td>\n      <td>0</td>\n    </tr>\n    <tr>\n      <th>1</th>\n      <td>Eu odeio o fato que muito provavelmente meu vo...</td>\n      <td>0</td>\n    </tr>\n    <tr>\n      <th>2</th>\n      <td>Ciro mita tanto quanto aquele outro não quero ...</td>\n      <td>0</td>\n    </tr>\n    <tr>\n      <th>3</th>\n      <td>Raiva do Bolsonaro agora )</td>\n      <td>1</td>\n    </tr>\n    <tr>\n      <th>4</th>\n      <td>Reflexos da alienação petista comandada por Lu...</td>\n      <td>0</td>\n    </tr>\n    <tr>\n      <th>...</th>\n      <td>...</td>\n      <td>...</td>\n    </tr>\n    <tr>\n      <th>595</th>\n      <td>vitirialp de qualquer forma vc ta analogando o...</td>\n      <td>0</td>\n    </tr>\n    <tr>\n      <th>596</th>\n      <td>carolgil Epa deixa o Alckmin ganhar nada! Prec...</td>\n      <td>1</td>\n    </tr>\n    <tr>\n      <th>597</th>\n      <td>Se Alckmin é um picolé de chuchu essa chapa se...</td>\n      <td>1</td>\n    </tr>\n    <tr>\n      <th>598</th>\n      <td>Lula-le-Corrompu ( https//t.co/pu8atJPCph via ...</td>\n      <td>0</td>\n    </tr>\n    <tr>\n      <th>599</th>\n      <td>Conduzir a Ceará Traduzido e morar em Recife o...</td>\n      <td>0</td>\n    </tr>\n  </tbody>\n</table>\n<p>600 rows × 2 columns</p>\n</div>"
     },
     "execution_count": 6,
     "metadata": {},
     "output_type": "execute_result"
    }
   ],
   "source": [
    "dataset"
   ],
   "metadata": {
    "collapsed": false,
    "ExecuteTime": {
     "end_time": "2024-04-05T03:51:29.032434Z",
     "start_time": "2024-04-05T03:51:28.985881Z"
    }
   },
   "id": "ea7a3efc96a24603",
   "execution_count": 6
  },
  {
   "cell_type": "code",
   "outputs": [],
   "source": [
    "from sklearn.feature_extraction.text import CountVectorizer\n",
    "vectorizer = CountVectorizer()"
   ],
   "metadata": {
    "collapsed": false,
    "ExecuteTime": {
     "end_time": "2024-04-05T03:51:29.175527Z",
     "start_time": "2024-04-05T03:51:29.035666Z"
    }
   },
   "id": "18a2a8a7cee15dc2",
   "execution_count": 7
  },
  {
   "cell_type": "code",
   "outputs": [],
   "source": [
    "X_train = vectorizer.fit_transform(dataset['tweet_text'])"
   ],
   "metadata": {
    "collapsed": false,
    "ExecuteTime": {
     "end_time": "2024-04-05T03:51:29.206305Z",
     "start_time": "2024-04-05T03:51:29.176528Z"
    }
   },
   "id": "1bfb90ad02f02005",
   "execution_count": 8
  },
  {
   "cell_type": "code",
   "outputs": [],
   "source": [
    "y_train = dataset['sentiment']"
   ],
   "metadata": {
    "collapsed": false,
    "ExecuteTime": {
     "end_time": "2024-04-05T03:51:29.216662Z",
     "start_time": "2024-04-05T03:51:29.207455Z"
    }
   },
   "id": "18af3cd52bd72d9f",
   "execution_count": 9
  },
  {
   "cell_type": "code",
   "outputs": [],
   "source": [
    "X_train = X_train.toarray()"
   ],
   "metadata": {
    "collapsed": false,
    "ExecuteTime": {
     "end_time": "2024-04-05T03:51:29.230854Z",
     "start_time": "2024-04-05T03:51:29.217744Z"
    }
   },
   "id": "aba79fd12bfec23f",
   "execution_count": 10
  },
  {
   "cell_type": "code",
   "outputs": [
    {
     "data": {
      "text/plain": "array([[0, 0, 0, ..., 0, 0, 0],\n       [0, 0, 0, ..., 0, 0, 0],\n       [0, 0, 0, ..., 0, 0, 0],\n       ...,\n       [0, 0, 0, ..., 0, 0, 0],\n       [0, 0, 0, ..., 0, 0, 0],\n       [0, 0, 0, ..., 0, 0, 0]], dtype=int64)"
     },
     "execution_count": 11,
     "metadata": {},
     "output_type": "execute_result"
    }
   ],
   "source": [
    "X_train"
   ],
   "metadata": {
    "collapsed": false,
    "ExecuteTime": {
     "end_time": "2024-04-05T03:51:29.248440Z",
     "start_time": "2024-04-05T03:51:29.236559Z"
    }
   },
   "id": "4f2bfef7f0ad3daa",
   "execution_count": 11
  },
  {
   "cell_type": "code",
   "outputs": [
    {
     "data": {
      "text/plain": "3519"
     },
     "execution_count": 12,
     "metadata": {},
     "output_type": "execute_result"
    }
   ],
   "source": [
    "X_train.shape[1]"
   ],
   "metadata": {
    "collapsed": false,
    "ExecuteTime": {
     "end_time": "2024-04-05T03:51:29.263202Z",
     "start_time": "2024-04-05T03:51:29.250597Z"
    }
   },
   "id": "af7bd7f025399290",
   "execution_count": 12
  },
  {
   "cell_type": "code",
   "outputs": [
    {
     "data": {
      "text/plain": "0      0\n1      0\n2      0\n3      1\n4      0\n      ..\n595    0\n596    1\n597    1\n598    0\n599    0\nName: sentiment, Length: 600, dtype: int64"
     },
     "execution_count": 13,
     "metadata": {},
     "output_type": "execute_result"
    }
   ],
   "source": [
    "y_train"
   ],
   "metadata": {
    "collapsed": false,
    "ExecuteTime": {
     "end_time": "2024-04-05T03:51:29.276323Z",
     "start_time": "2024-04-05T03:51:29.265048Z"
    }
   },
   "id": "cf5259c1c69cb2e2",
   "execution_count": 13
  },
  {
   "cell_type": "code",
   "outputs": [],
   "source": [
    "model = tf.keras.Sequential()\n",
    "input_shape = (3519,)\n",
    "input_layer = tf.keras.layers.Input(shape=input_shape)\n",
    "model.add(input_layer)\n",
    "model.add(tf.keras.layers.Dense(units=400, activation='relu'))\n",
    "model.add(tf.keras.layers.Dense(units=400, activation='relu'))\n",
    "model.add(tf.keras.layers.Dense(units=400, activation='relu'))\n",
    "model.add(tf.keras.layers.Dense(units=1, activation='sigmoid'))\n",
    "\n"
   ],
   "metadata": {
    "collapsed": false,
    "ExecuteTime": {
     "end_time": "2024-04-05T03:51:29.401515Z",
     "start_time": "2024-04-05T03:51:29.277618Z"
    }
   },
   "id": "c1bbe3ca863ef464",
   "execution_count": 14
  },
  {
   "cell_type": "code",
   "outputs": [
    {
     "data": {
      "text/plain": "\u001B[1mModel: \"sequential\"\u001B[0m\n",
      "text/html": "<pre style=\"white-space:pre;overflow-x:auto;line-height:normal;font-family:Menlo,'DejaVu Sans Mono',consolas,'Courier New',monospace\"><span style=\"font-weight: bold\">Model: \"sequential\"</span>\n</pre>\n"
     },
     "metadata": {},
     "output_type": "display_data"
    },
    {
     "data": {
      "text/plain": "┏━━━━━━━━━━━━━━━━━━━━━━━━━━━━━━━━━┳━━━━━━━━━━━━━━━━━━━━━━━━┳━━━━━━━━━━━━━━━┓\n┃\u001B[1m \u001B[0m\u001B[1mLayer (type)                   \u001B[0m\u001B[1m \u001B[0m┃\u001B[1m \u001B[0m\u001B[1mOutput Shape          \u001B[0m\u001B[1m \u001B[0m┃\u001B[1m \u001B[0m\u001B[1m      Param #\u001B[0m\u001B[1m \u001B[0m┃\n┡━━━━━━━━━━━━━━━━━━━━━━━━━━━━━━━━━╇━━━━━━━━━━━━━━━━━━━━━━━━╇━━━━━━━━━━━━━━━┩\n│ dense (\u001B[38;5;33mDense\u001B[0m)                   │ (\u001B[38;5;45mNone\u001B[0m, \u001B[38;5;34m400\u001B[0m)            │     \u001B[38;5;34m1,408,000\u001B[0m │\n├─────────────────────────────────┼────────────────────────┼───────────────┤\n│ dense_1 (\u001B[38;5;33mDense\u001B[0m)                 │ (\u001B[38;5;45mNone\u001B[0m, \u001B[38;5;34m400\u001B[0m)            │       \u001B[38;5;34m160,400\u001B[0m │\n├─────────────────────────────────┼────────────────────────┼───────────────┤\n│ dense_2 (\u001B[38;5;33mDense\u001B[0m)                 │ (\u001B[38;5;45mNone\u001B[0m, \u001B[38;5;34m400\u001B[0m)            │       \u001B[38;5;34m160,400\u001B[0m │\n├─────────────────────────────────┼────────────────────────┼───────────────┤\n│ dense_3 (\u001B[38;5;33mDense\u001B[0m)                 │ (\u001B[38;5;45mNone\u001B[0m, \u001B[38;5;34m1\u001B[0m)              │           \u001B[38;5;34m401\u001B[0m │\n└─────────────────────────────────┴────────────────────────┴───────────────┘\n",
      "text/html": "<pre style=\"white-space:pre;overflow-x:auto;line-height:normal;font-family:Menlo,'DejaVu Sans Mono',consolas,'Courier New',monospace\">┏━━━━━━━━━━━━━━━━━━━━━━━━━━━━━━━━━┳━━━━━━━━━━━━━━━━━━━━━━━━┳━━━━━━━━━━━━━━━┓\n┃<span style=\"font-weight: bold\"> Layer (type)                    </span>┃<span style=\"font-weight: bold\"> Output Shape           </span>┃<span style=\"font-weight: bold\">       Param # </span>┃\n┡━━━━━━━━━━━━━━━━━━━━━━━━━━━━━━━━━╇━━━━━━━━━━━━━━━━━━━━━━━━╇━━━━━━━━━━━━━━━┩\n│ dense (<span style=\"color: #0087ff; text-decoration-color: #0087ff\">Dense</span>)                   │ (<span style=\"color: #00d7ff; text-decoration-color: #00d7ff\">None</span>, <span style=\"color: #00af00; text-decoration-color: #00af00\">400</span>)            │     <span style=\"color: #00af00; text-decoration-color: #00af00\">1,408,000</span> │\n├─────────────────────────────────┼────────────────────────┼───────────────┤\n│ dense_1 (<span style=\"color: #0087ff; text-decoration-color: #0087ff\">Dense</span>)                 │ (<span style=\"color: #00d7ff; text-decoration-color: #00d7ff\">None</span>, <span style=\"color: #00af00; text-decoration-color: #00af00\">400</span>)            │       <span style=\"color: #00af00; text-decoration-color: #00af00\">160,400</span> │\n├─────────────────────────────────┼────────────────────────┼───────────────┤\n│ dense_2 (<span style=\"color: #0087ff; text-decoration-color: #0087ff\">Dense</span>)                 │ (<span style=\"color: #00d7ff; text-decoration-color: #00d7ff\">None</span>, <span style=\"color: #00af00; text-decoration-color: #00af00\">400</span>)            │       <span style=\"color: #00af00; text-decoration-color: #00af00\">160,400</span> │\n├─────────────────────────────────┼────────────────────────┼───────────────┤\n│ dense_3 (<span style=\"color: #0087ff; text-decoration-color: #0087ff\">Dense</span>)                 │ (<span style=\"color: #00d7ff; text-decoration-color: #00d7ff\">None</span>, <span style=\"color: #00af00; text-decoration-color: #00af00\">1</span>)              │           <span style=\"color: #00af00; text-decoration-color: #00af00\">401</span> │\n└─────────────────────────────────┴────────────────────────┴───────────────┘\n</pre>\n"
     },
     "metadata": {},
     "output_type": "display_data"
    },
    {
     "data": {
      "text/plain": "\u001B[1m Total params: \u001B[0m\u001B[38;5;34m1,729,201\u001B[0m (6.60 MB)\n",
      "text/html": "<pre style=\"white-space:pre;overflow-x:auto;line-height:normal;font-family:Menlo,'DejaVu Sans Mono',consolas,'Courier New',monospace\"><span style=\"font-weight: bold\"> Total params: </span><span style=\"color: #00af00; text-decoration-color: #00af00\">1,729,201</span> (6.60 MB)\n</pre>\n"
     },
     "metadata": {},
     "output_type": "display_data"
    },
    {
     "data": {
      "text/plain": "\u001B[1m Trainable params: \u001B[0m\u001B[38;5;34m1,729,201\u001B[0m (6.60 MB)\n",
      "text/html": "<pre style=\"white-space:pre;overflow-x:auto;line-height:normal;font-family:Menlo,'DejaVu Sans Mono',consolas,'Courier New',monospace\"><span style=\"font-weight: bold\"> Trainable params: </span><span style=\"color: #00af00; text-decoration-color: #00af00\">1,729,201</span> (6.60 MB)\n</pre>\n"
     },
     "metadata": {},
     "output_type": "display_data"
    },
    {
     "data": {
      "text/plain": "\u001B[1m Non-trainable params: \u001B[0m\u001B[38;5;34m0\u001B[0m (0.00 B)\n",
      "text/html": "<pre style=\"white-space:pre;overflow-x:auto;line-height:normal;font-family:Menlo,'DejaVu Sans Mono',consolas,'Courier New',monospace\"><span style=\"font-weight: bold\"> Non-trainable params: </span><span style=\"color: #00af00; text-decoration-color: #00af00\">0</span> (0.00 B)\n</pre>\n"
     },
     "metadata": {},
     "output_type": "display_data"
    }
   ],
   "source": [
    "model.summary()"
   ],
   "metadata": {
    "collapsed": false,
    "ExecuteTime": {
     "end_time": "2024-04-05T03:51:29.443383Z",
     "start_time": "2024-04-05T03:51:29.403733Z"
    }
   },
   "id": "2dd43a53fb063e7d",
   "execution_count": 15
  },
  {
   "cell_type": "code",
   "outputs": [
    {
     "name": "stdout",
     "output_type": "stream",
     "text": [
      "Epoch 1/10\n",
      "\u001B[1m19/19\u001B[0m \u001B[32m━━━━━━━━━━━━━━━━━━━━\u001B[0m\u001B[37m\u001B[0m \u001B[1m2s\u001B[0m 19ms/step - accuracy: 0.5159 - loss: 0.6854\n",
      "Epoch 2/10\n",
      "\u001B[1m19/19\u001B[0m \u001B[32m━━━━━━━━━━━━━━━━━━━━\u001B[0m\u001B[37m\u001B[0m \u001B[1m0s\u001B[0m 15ms/step - accuracy: 0.8421 - loss: 0.3892\n",
      "Epoch 3/10\n",
      "\u001B[1m19/19\u001B[0m \u001B[32m━━━━━━━━━━━━━━━━━━━━\u001B[0m\u001B[37m\u001B[0m \u001B[1m0s\u001B[0m 16ms/step - accuracy: 0.9972 - loss: 0.0186\n",
      "Epoch 4/10\n",
      "\u001B[1m19/19\u001B[0m \u001B[32m━━━━━━━━━━━━━━━━━━━━\u001B[0m\u001B[37m\u001B[0m \u001B[1m0s\u001B[0m 14ms/step - accuracy: 1.0000 - loss: 0.0037\n",
      "Epoch 5/10\n",
      "\u001B[1m19/19\u001B[0m \u001B[32m━━━━━━━━━━━━━━━━━━━━\u001B[0m\u001B[37m\u001B[0m \u001B[1m0s\u001B[0m 14ms/step - accuracy: 1.0000 - loss: 0.0014\n",
      "Epoch 6/10\n",
      "\u001B[1m19/19\u001B[0m \u001B[32m━━━━━━━━━━━━━━━━━━━━\u001B[0m\u001B[37m\u001B[0m \u001B[1m0s\u001B[0m 14ms/step - accuracy: 1.0000 - loss: 4.2328e-04\n",
      "Epoch 7/10\n",
      "\u001B[1m19/19\u001B[0m \u001B[32m━━━━━━━━━━━━━━━━━━━━\u001B[0m\u001B[37m\u001B[0m \u001B[1m0s\u001B[0m 14ms/step - accuracy: 1.0000 - loss: 2.9670e-04\n",
      "Epoch 8/10\n",
      "\u001B[1m19/19\u001B[0m \u001B[32m━━━━━━━━━━━━━━━━━━━━\u001B[0m\u001B[37m\u001B[0m \u001B[1m0s\u001B[0m 13ms/step - accuracy: 1.0000 - loss: 1.5606e-04\n",
      "Epoch 9/10\n",
      "\u001B[1m19/19\u001B[0m \u001B[32m━━━━━━━━━━━━━━━━━━━━\u001B[0m\u001B[37m\u001B[0m \u001B[1m0s\u001B[0m 15ms/step - accuracy: 1.0000 - loss: 1.0769e-04\n",
      "Epoch 10/10\n",
      "\u001B[1m19/19\u001B[0m \u001B[32m━━━━━━━━━━━━━━━━━━━━\u001B[0m\u001B[37m\u001B[0m \u001B[1m0s\u001B[0m 15ms/step - accuracy: 1.0000 - loss: 1.1152e-04\n"
     ]
    },
    {
     "data": {
      "text/plain": "<keras.src.callbacks.history.History at 0x1faa0006180>"
     },
     "execution_count": 16,
     "metadata": {},
     "output_type": "execute_result"
    }
   ],
   "source": [
    "model.compile(optimizer='adam', loss='binary_crossentropy', metrics=['accuracy'])\n",
    "model.fit(X_train, y_train, epochs=10)"
   ],
   "metadata": {
    "collapsed": false,
    "ExecuteTime": {
     "end_time": "2024-04-05T03:51:33.983813Z",
     "start_time": "2024-04-05T03:51:29.445550Z"
    }
   },
   "id": "97c87d000a13c6d9",
   "execution_count": 16
  },
  {
   "cell_type": "code",
   "outputs": [
    {
     "data": {
      "text/plain": "(600, 3519)"
     },
     "execution_count": 17,
     "metadata": {},
     "output_type": "execute_result"
    }
   ],
   "source": [
    "X_train.shape\n"
   ],
   "metadata": {
    "collapsed": false,
    "ExecuteTime": {
     "end_time": "2024-04-05T03:51:33.991461Z",
     "start_time": "2024-04-05T03:51:33.984919Z"
    }
   },
   "id": "75d00c7d7d2f36a8",
   "execution_count": 17
  },
  {
   "cell_type": "code",
   "outputs": [],
   "source": [
    "phrase = ['Eu amo meu amor mais do que tudo']\n",
    "phrase_vectorized = vectorizer.transform(phrase)"
   ],
   "metadata": {
    "collapsed": false,
    "ExecuteTime": {
     "end_time": "2024-04-05T03:51:34.004006Z",
     "start_time": "2024-04-05T03:51:33.993164Z"
    }
   },
   "id": "85393841dad5b4d8",
   "execution_count": 18
  },
  {
   "cell_type": "code",
   "outputs": [
    {
     "name": "stdout",
     "output_type": "stream",
     "text": [
      "\u001B[1m1/1\u001B[0m \u001B[32m━━━━━━━━━━━━━━━━━━━━\u001B[0m\u001B[37m\u001B[0m \u001B[1m0s\u001B[0m 56ms/step\n"
     ]
    }
   ],
   "source": [
    "\n",
    "predict = model.predict(phrase_vectorized.toarray())"
   ],
   "metadata": {
    "collapsed": false,
    "ExecuteTime": {
     "end_time": "2024-04-05T03:51:34.108930Z",
     "start_time": "2024-04-05T03:51:34.005093Z"
    }
   },
   "id": "13379cfa7c4d01e0",
   "execution_count": 19
  },
  {
   "cell_type": "code",
   "outputs": [
    {
     "data": {
      "text/plain": "array([[0.99686253]], dtype=float32)"
     },
     "execution_count": 20,
     "metadata": {},
     "output_type": "execute_result"
    }
   ],
   "source": [
    "resultado = np.round(predict)\n",
    "predict"
   ],
   "metadata": {
    "collapsed": false,
    "ExecuteTime": {
     "end_time": "2024-04-05T03:51:34.119204Z",
     "start_time": "2024-04-05T03:51:34.110009Z"
    }
   },
   "id": "93d22dbc807c6c5e",
   "execution_count": 20
  },
  {
   "cell_type": "code",
   "outputs": [
    {
     "data": {
      "text/plain": "'Frase positiva'"
     },
     "execution_count": 21,
     "metadata": {},
     "output_type": "execute_result"
    }
   ],
   "source": [
    "\"Frase positiva\" if resultado == 1 else \"Frase negativa\""
   ],
   "metadata": {
    "collapsed": false,
    "ExecuteTime": {
     "end_time": "2024-04-05T03:51:34.138695Z",
     "start_time": "2024-04-05T03:51:34.122211Z"
    }
   },
   "id": "d08e9d922502d98f",
   "execution_count": 21
  },
  {
   "cell_type": "code",
   "outputs": [],
   "source": [
    "#Fiz uma IA que detecta sentimentos em frases :)"
   ],
   "metadata": {
    "collapsed": false,
    "ExecuteTime": {
     "end_time": "2024-04-05T03:51:34.152212Z",
     "start_time": "2024-04-05T03:51:34.140848Z"
    }
   },
   "id": "1aa50e70b0eaf3ca",
   "execution_count": 22
  },
  {
   "cell_type": "code",
   "outputs": [],
   "source": [
    "model.save('models/sentiments.keras')"
   ],
   "metadata": {
    "collapsed": false,
    "ExecuteTime": {
     "end_time": "2024-04-05T03:51:34.273133Z",
     "start_time": "2024-04-05T03:51:34.153668Z"
    }
   },
   "id": "62cc7f7938caf1c1",
   "execution_count": 23
  },
  {
   "cell_type": "code",
   "outputs": [],
   "source": [
    "with open(\"sentiments.pkl\", \"wb\") as f:\n",
    "    pck.dump(vectorizer.vocabulary_, f)"
   ],
   "metadata": {
    "collapsed": false,
    "ExecuteTime": {
     "end_time": "2024-04-05T03:51:34.281843Z",
     "start_time": "2024-04-05T03:51:34.274222Z"
    }
   },
   "id": "b699947d420eaf04",
   "execution_count": 24
  },
  {
   "cell_type": "code",
   "outputs": [],
   "source": [],
   "metadata": {
    "collapsed": false,
    "ExecuteTime": {
     "end_time": "2024-04-05T03:51:34.287952Z",
     "start_time": "2024-04-05T03:51:34.283095Z"
    }
   },
   "id": "9696db49403f68eb",
   "execution_count": 24
  }
 ],
 "metadata": {
  "kernelspec": {
   "display_name": "Python 3",
   "language": "python",
   "name": "python3"
  },
  "language_info": {
   "codemirror_mode": {
    "name": "ipython",
    "version": 2
   },
   "file_extension": ".py",
   "mimetype": "text/x-python",
   "name": "python",
   "nbconvert_exporter": "python",
   "pygments_lexer": "ipython2",
   "version": "2.7.6"
  }
 },
 "nbformat": 4,
 "nbformat_minor": 5
}
